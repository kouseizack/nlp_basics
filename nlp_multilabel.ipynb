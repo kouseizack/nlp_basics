{
  "nbformat": 4,
  "nbformat_minor": 0,
  "metadata": {
    "colab": {
      "name": "nlp_multilabel.ipynb",
      "provenance": [],
      "collapsed_sections": [],
      "authorship_tag": "ABX9TyM6jYulzPpL39pJ6lXp4Wwv",
      "include_colab_link": true
    },
    "kernelspec": {
      "name": "python3",
      "display_name": "Python 3"
    }
  },
  "cells": [
    {
      "cell_type": "markdown",
      "metadata": {
        "id": "view-in-github",
        "colab_type": "text"
      },
      "source": [
        "<a href=\"https://colab.research.google.com/github/kouseizack/nlp_basics/blob/master/nlp_multilabel.ipynb\" target=\"_parent\"><img src=\"https://colab.research.google.com/assets/colab-badge.svg\" alt=\"Open In Colab\"/></a>"
      ]
    },
    {
      "cell_type": "code",
      "metadata": {
        "id": "USR5oQqOfQ8F",
        "colab_type": "code",
        "outputId": "f93a7f44-7f38-480d-d041-1432d151abd9",
        "colab": {
          "base_uri": "https://localhost:8080/",
          "height": 55
        }
      },
      "source": [
        "from google.colab import drive\n",
        "drive.mount('/content/drive')"
      ],
      "execution_count": 15,
      "outputs": [
        {
          "output_type": "stream",
          "text": [
            "Drive already mounted at /content/drive; to attempt to forcibly remount, call drive.mount(\"/content/drive\", force_remount=True).\n"
          ],
          "name": "stdout"
        }
      ]
    },
    {
      "cell_type": "code",
      "metadata": {
        "id": "tX9cCyslfu--",
        "colab_type": "code",
        "outputId": "fc247f34-6f04-4713-e070-8a9c9f54d45d",
        "colab": {
          "base_uri": "https://localhost:8080/",
          "height": 35
        }
      },
      "source": [
        "cd /content/drive/My Drive/nlp_basics"
      ],
      "execution_count": 16,
      "outputs": [
        {
          "output_type": "stream",
          "text": [
            "/content/drive/My Drive/nlp_basics\n"
          ],
          "name": "stdout"
        }
      ]
    },
    {
      "cell_type": "code",
      "metadata": {
        "id": "PXTFMn-Vf2xk",
        "colab_type": "code",
        "colab": {}
      },
      "source": [
        "import numpy as np # linear algebra\n",
        "import pandas as pd # data processing, CSV file I/O (e.g. pd.read_csv)\n",
        "import nltk #NLTK(Natural Language Toolkit)\n",
        "from nltk.corpus import stopwords #NLTK(Natural Language Toolkit) in python has a list of stopwords stored in 16 different languages.\n",
        "from nltk.tokenize import word_tokenize# To tokenize words\n",
        "import re\n",
        "import seaborn as sns\n",
        "from nltk.tokenize import RegexpTokenizer\n",
        "from nltk.stem import WordNetLemmatizer\n",
        "from nltk.stem.porter import PorterStemmer\n",
        "import matplotlib.pyplot as plt # data visualization\n",
        "%matplotlib inline"
      ],
      "execution_count": 0,
      "outputs": []
    },
    {
      "cell_type": "code",
      "metadata": {
        "id": "ASEPsIKqf7Pe",
        "colab_type": "code",
        "outputId": "5e35cdec-ab0c-47e4-9312-da362408cabb",
        "colab": {
          "base_uri": "https://localhost:8080/",
          "height": 54
        }
      },
      "source": [
        "data_train = pd.read_csv('train.csv')\n",
        "data_test = pd.read_csv('test.csv')\n",
        "print (data_train.shape)\n",
        "print (data_test.shape)"
      ],
      "execution_count": 18,
      "outputs": [
        {
          "output_type": "stream",
          "text": [
            "(159571, 8)\n",
            "(153164, 2)\n"
          ],
          "name": "stdout"
        }
      ]
    },
    {
      "cell_type": "code",
      "metadata": {
        "id": "4K-exO35_TPQ",
        "colab_type": "code",
        "outputId": "8aa94fec-0934-4ebb-a06e-62924e1dfda1",
        "colab": {
          "base_uri": "https://localhost:8080/",
          "height": 54
        }
      },
      "source": [
        "label = []\n",
        "for ind in data_train.index:\n",
        "  val = 0\n",
        "  for i , category in enumerate(data_train.columns.values[2:]):\n",
        "    val += (2**i)*data_train[category][ind]\n",
        "  label.append(val)\n",
        "print (len(label))\n",
        "'''data_train['label'] = label\n",
        "print (data_train.head(5))'''"
      ],
      "execution_count": 19,
      "outputs": [
        {
          "output_type": "stream",
          "text": [
            "159571\n"
          ],
          "name": "stdout"
        },
        {
          "output_type": "execute_result",
          "data": {
            "text/plain": [
              "\"data_train['label'] = label\\nprint (data_train.head(5))\""
            ]
          },
          "metadata": {
            "tags": []
          },
          "execution_count": 19
        }
      ]
    },
    {
      "cell_type": "markdown",
      "metadata": {
        "id": "rDcdisVnjMyI",
        "colab_type": "text"
      },
      "source": [
        "Data Visulalization"
      ]
    },
    {
      "cell_type": "code",
      "metadata": {
        "id": "ydUtPJ3UgR91",
        "colab_type": "code",
        "outputId": "79ce645a-540c-424a-84c2-43f0cc845fe6",
        "colab": {
          "base_uri": "https://localhost:8080/",
          "height": 35
        }
      },
      "source": [
        "categories = list(data_train.columns.values)\n",
        "categories = categories[2:]\n",
        "print (categories)"
      ],
      "execution_count": 20,
      "outputs": [
        {
          "output_type": "stream",
          "text": [
            "['toxic', 'severe_toxic', 'obscene', 'threat', 'insult', 'identity_hate']\n"
          ],
          "name": "stdout"
        }
      ]
    },
    {
      "cell_type": "code",
      "metadata": {
        "id": "91_An6guyMuU",
        "colab_type": "code",
        "outputId": "0b53c2fe-47b7-4e30-c73a-6e94c2bc8c11",
        "colab": {
          "base_uri": "https://localhost:8080/",
          "height": 35
        }
      },
      "source": [
        "count_per_category = [sum(data_train[y]) for y in data_train.columns.values[2:]]\n",
        "count_per_category"
      ],
      "execution_count": 21,
      "outputs": [
        {
          "output_type": "execute_result",
          "data": {
            "text/plain": [
              "[15294, 1595, 8449, 478, 7877, 1405]"
            ]
          },
          "metadata": {
            "tags": []
          },
          "execution_count": 21
        }
      ]
    },
    {
      "cell_type": "code",
      "metadata": {
        "id": "XVfpAbXqi9ij",
        "colab_type": "code",
        "outputId": "e7ec9956-c3a8-456d-91f4-d76c434dd2c0",
        "colab": {
          "base_uri": "https://localhost:8080/",
          "height": 626
        }
      },
      "source": [
        "plt.figure(figsize = (10, 10))\n",
        "plt.bar(np.arange(len(count_per_category)),count_per_category)\n",
        "plt.xticks(np.arange(len(count_per_category)), categories)\n",
        "plt.xlabel('Catagories')\n",
        "plt.ylabel('Occurrence')"
      ],
      "execution_count": 22,
      "outputs": [
        {
          "output_type": "execute_result",
          "data": {
            "text/plain": [
              "Text(0, 0.5, 'Occurrence')"
            ]
          },
          "metadata": {
            "tags": []
          },
          "execution_count": 22
        },
        {
          "output_type": "display_data",
          "data": {
            "image/png": "[encoded data removed]",
            "text/plain": [
              "<Figure size 720x720 with 1 Axes>"
            ]
          },
          "metadata": {
            "tags": [],
            "needs_background": "light"
          }
        }
      ]
    },
    {
      "cell_type": "code",
      "metadata": {
        "id": "pCDNVydEIykE",
        "colab_type": "code",
        "outputId": "cd821ed9-446e-4577-d5d9-23d489ba44c3",
        "colab": {
          "base_uri": "https://localhost:8080/",
          "height": 35
        }
      },
      "source": [
        "train_sample = data_train.loc[np.random.choice(data_train.index, size=70000)]\n",
        "train_sample.shape\n",
        "test_sample = data_test.loc[np.random.choice(data_test.index, size=70000)]\n",
        "test_sample.shape"
      ],
      "execution_count": 23,
      "outputs": [
        {
          "output_type": "execute_result",
          "data": {
            "text/plain": [
              "(70000, 2)"
            ]
          },
          "metadata": {
            "tags": []
          },
          "execution_count": 23
        }
      ]
    },
    {
      "cell_type": "code",
      "metadata": {
        "id": "LLIGUYeeUd75",
        "colab_type": "code",
        "colab": {
          "base_uri": "https://localhost:8080/",
          "height": 72
        },
        "outputId": "33b56751-421f-4362-c66e-261c8950aa30"
      },
      "source": [
        "from sklearn.model_selection import train_test_split\n",
        "from tensorflow.keras.preprocessing.text import Tokenizer\n",
        "from tensorflow.keras.preprocessing.sequence import pad_sequences\n",
        "\n",
        "tokenizer = Tokenizer(num_words=50000)\n",
        "\n",
        "print (train_sample.shape)\n",
        "\n",
        "total_comments = train_sample['comment_text'].values\n",
        "tokenizer.fit_on_texts(total_comments)\n",
        "X_train , X_test , Y_train , Y_test = train_test_split(train_sample['comment_text'].values , train_sample.iloc[: , 2:] ,random_state=42, test_size=0.30, shuffle=True)\n",
        "X_train = tokenizer.texts_to_sequences(X_train)\n",
        "X_test = tokenizer.texts_to_sequences(X_test)\n",
        "\n",
        "maxlen = max([len(s.split()) for s in total_comments])\n",
        "\n",
        "X_train = pad_sequences(X_train, padding='post', maxlen=maxlen)\n",
        "X_test = pad_sequences(X_test, padding='post', maxlen=maxlen)\n",
        "\n",
        "print(X_train.shape,Y_train.shape)\n",
        "print(X_test.shape,Y_test.shape)"
      ],
      "execution_count": 24,
      "outputs": [
        {
          "output_type": "stream",
          "text": [
            "(70000, 8)\n",
            "(49000, 1354) (49000, 6)\n",
            "(21000, 1354) (21000, 6)\n"
          ],
          "name": "stdout"
        }
      ]
    },
    {
      "cell_type": "markdown",
      "metadata": {
        "id": "Vw4mdIZXjseL",
        "colab_type": "text"
      },
      "source": [
        "Data pre-processsing : \n"
      ]
    },
    {
      "cell_type": "code",
      "metadata": {
        "id": "nvkpREmOksjv",
        "colab_type": "code",
        "colab": {}
      },
      "source": [
        "def cleanHtml(sentence):\n",
        "    cleanr = re.compile('<.*?>')\n",
        "    cleantext = re.sub(cleanr, ' ', str(sentence))\n",
        "    return cleantext\n",
        "\n",
        "def cleanPunc(sentence): #function to clean the word of any punctuation or special characters\n",
        "    cleaned = re.sub(r'[?|!|\\'|\"|#]',r'',sentence)\n",
        "    cleaned = re.sub(r'[.|,|)|(|\\|/]',r' ',cleaned)\n",
        "    cleaned = cleaned.strip()\n",
        "    cleaned = cleaned.replace(\"\\n\",\" \")\n",
        "    return cleaned\n",
        "\n",
        "def keep_alpha_numer(sentence):\n",
        "    alpha_sent = \"\"\n",
        "    for word in sentence.split():\n",
        "        alpha_word = re.sub(\"[^a-zA-Z0-9]\",\" \", word)\n",
        "        alpha_sent += alpha_word\n",
        "        alpha_sent += \" \"\n",
        "    alpha_sent = alpha_sent.strip()\n",
        "    return alpha_sent"
      ],
      "execution_count": 0,
      "outputs": []
    },
    {
      "cell_type": "code",
      "metadata": {
        "id": "_6zGuJcutfoB",
        "colab_type": "code",
        "outputId": "75285177-f74d-427f-d434-4bebc306e4f6",
        "colab": {
          "base_uri": "https://localhost:8080/",
          "height": 381
        }
      },
      "source": [
        "train_sample['comment_text'] = train_sample['comment_text'].str.lower()\n",
        "test_sample['comment_text'] = test_sample['comment_text'].str.lower()\n",
        "\n",
        "train_sample['comment_text'] = train_sample['comment_text'].apply(cleanHtml)\n",
        "train_sample['comment_text'] = train_sample['comment_text'].apply(cleanPunc)\n",
        "train_sample['comment_text'] = train_sample['comment_text'].apply(keep_alpha_numer)\n",
        "print (train_sample.head())\n",
        "print (train_sample['comment_text'])"
      ],
      "execution_count": 26,
      "outputs": [
        {
          "output_type": "stream",
          "text": [
            "                      id  ... identity_hate\n",
            "99351   137767c9a0674013  ...             0\n",
            "11393   1e23fab7b340810d  ...             0\n",
            "323     00d08f350398a2b9  ...             0\n",
            "122225  8dd8b38583ca6beb  ...             0\n",
            "95004   fdfe37175faa97c3  ...             0\n",
            "\n",
            "[5 rows x 8 columns]\n",
            "99351     other comments were not much friendlier  russe...\n",
            "11393     shouldnt this one be deleted its renamed to su...\n",
            "323                                    to a convicted felon\n",
            "122225                         creating talk page as needed\n",
            "95004     are you going to teach me what language predom...\n",
            "                                ...                        \n",
            "42150     20  reminds me of the percentage of german you...\n",
            "3829                          with aristocratic connections\n",
            "115897    commercial websites are advised against as ext...\n",
            "5699      november 2012 ignoring wp nor is a breach of w...\n",
            "35232     arbitration enforcement please see wikipedia a...\n",
            "Name: comment_text, Length: 70000, dtype: object\n"
          ],
          "name": "stdout"
        }
      ]
    },
    {
      "cell_type": "code",
      "metadata": {
        "id": "9Zcqsp8CLueo",
        "colab_type": "code",
        "outputId": "099a9596-808e-4adb-eab9-0513fac2fab9",
        "colab": {
          "base_uri": "https://localhost:8080/",
          "height": 198
        }
      },
      "source": [
        "test_sample['comment_text'] = test_sample['comment_text'].apply(cleanHtml)\n",
        "test_sample['comment_text'] = test_sample['comment_text'].apply(cleanPunc)\n",
        "test_sample['comment_text'] = test_sample['comment_text'].apply(keep_alpha_numer)\n",
        "test_sample.head()"
      ],
      "execution_count": 27,
      "outputs": [
        {
          "output_type": "execute_result",
          "data": {
            "text/html": [
              "<div>\n",
              "<style scoped>\n",
              "    .dataframe tbody tr th:only-of-type {\n",
              "        vertical-align: middle;\n",
              "    }\n",
              "\n",
              "    .dataframe tbody tr th {\n",
              "        vertical-align: top;\n",
              "    }\n",
              "\n",
              "    .dataframe thead th {\n",
              "        text-align: right;\n",
              "    }\n",
              "</style>\n",
              "<table border=\"1\" class=\"dataframe\">\n",
              "  <thead>\n",
              "    <tr style=\"text-align: right;\">\n",
              "      <th></th>\n",
              "      <th>id</th>\n",
              "      <th>comment_text</th>\n",
              "    </tr>\n",
              "  </thead>\n",
              "  <tbody>\n",
              "    <tr>\n",
              "      <th>36100</th>\n",
              "      <td>3bfdb815dca07562</td>\n",
              "      <td>pleae go to stormfront and show those bastards...</td>\n",
              "    </tr>\n",
              "    <tr>\n",
              "      <th>15687</th>\n",
              "      <td>1a5e06490b97583f</td>\n",
              "      <td>something for you      style border  2px solid...</td>\n",
              "    </tr>\n",
              "    <tr>\n",
              "      <th>116743</th>\n",
              "      <td>c2cb6af9a71b4507</td>\n",
              "      <td>i think the latter version i e the current one...</td>\n",
              "    </tr>\n",
              "    <tr>\n",
              "      <th>85485</th>\n",
              "      <td>8e991ba464d80eb3</td>\n",
              "      <td>the material you and a lot of others posted mi...</td>\n",
              "    </tr>\n",
              "    <tr>\n",
              "      <th>111231</th>\n",
              "      <td>b996feab2b68d8ce</td>\n",
              "      <td></td>\n",
              "    </tr>\n",
              "  </tbody>\n",
              "</table>\n",
              "</div>"
            ],
            "text/plain": [
              "                      id                                       comment_text\n",
              "36100   3bfdb815dca07562  pleae go to stormfront and show those bastards...\n",
              "15687   1a5e06490b97583f  something for you      style border  2px solid...\n",
              "116743  c2cb6af9a71b4507  i think the latter version i e the current one...\n",
              "85485   8e991ba464d80eb3  the material you and a lot of others posted mi...\n",
              "111231  b996feab2b68d8ce                                                   "
            ]
          },
          "metadata": {
            "tags": []
          },
          "execution_count": 27
        }
      ]
    },
    {
      "cell_type": "markdown",
      "metadata": {
        "id": "lzLH99xEvnQS",
        "colab_type": "text"
      },
      "source": [
        "Removing stop words from corpus"
      ]
    },
    {
      "cell_type": "code",
      "metadata": {
        "id": "YkaPCU3NuKae",
        "colab_type": "code",
        "outputId": "fa5ea62c-ac91-4fe4-a52d-97c307fc7154",
        "colab": {
          "base_uri": "https://localhost:8080/",
          "height": 490
        }
      },
      "source": [
        "tokenizer = RegexpTokenizer(r'\\w+')\n",
        "nltk.download('stopwords')\n",
        "stop_words=set(stopwords.words('english'))\n",
        "def remove_stopwords(text):\n",
        "    words= [w for w in text if w not in stopwords.words('english')]\n",
        "    return words\n",
        "\n",
        "train_sample['comment_text'] = [tokenizer.tokenize(sentences) for sentences in train_sample['comment_text']]\n",
        "train_sample['comment_text'] = train_sample['comment_text'].apply(lambda x : remove_stopwords(x))\n",
        "\n",
        "test_sample['comment_text'] = [tokenizer.tokenize(sentences) for sentences in test_sample['comment_text']]\n",
        "test_sample['comment_text'] = test_sample['comment_text'].apply(lambda x : remove_stopwords(x))\n",
        "print (train_sample[\"comment_text\"])\n",
        "print (test_sample[\"comment_text\"])"
      ],
      "execution_count": 28,
      "outputs": [
        {
          "output_type": "stream",
          "text": [
            "[nltk_data] Downloading package stopwords to /root/nltk_data...\n",
            "[nltk_data]   Unzipping corpora/stopwords.zip.\n",
            "99351     [comments, much, friendlier, russell, kirk, co...\n",
            "11393             [shouldnt, one, deleted, renamed, sunday]\n",
            "323                                      [convicted, felon]\n",
            "122225                       [creating, talk, page, needed]\n",
            "95004     [going, teach, language, predominates, catalon...\n",
            "                                ...                        \n",
            "42150     [20, reminds, percentage, german, youth, fight...\n",
            "3829                            [aristocratic, connections]\n",
            "115897     [commercial, websites, advised, external, links]\n",
            "5699      [november, 2012, ignoring, wp, breach, wp, con...\n",
            "35232     [arbitration, enforcement, please, see, wikipe...\n",
            "Name: comment_text, Length: 70000, dtype: object\n",
            "36100     [pleae, go, stormfront, show, bastards, ive, p...\n",
            "15687     [something, style, border, 2px, solid, lightst...\n",
            "116743    [think, latter, version, e, current, one, bett...\n",
            "85485     [material, lot, others, posted, might, well, c...\n",
            "111231                                                   []\n",
            "                                ...                        \n",
            "23886     [thanks, agree, wp, bite, comment, least, rega...\n",
            "9794      [barnstar, style, background, color, fdffe7, b...\n",
            "62295     [restoration, end, means, novel, article, hi, ...\n",
            "113678    [auto, shack, autozone, autozone, didnt, chang...\n",
            "101272    [regards, edit, reason, use, twofold, one, bot...\n",
            "Name: comment_text, Length: 70000, dtype: object\n"
          ],
          "name": "stdout"
        }
      ]
    },
    {
      "cell_type": "markdown",
      "metadata": {
        "id": "hHE7mt00vQ_G",
        "colab_type": "text"
      },
      "source": [
        "Lemmatizing the corpus\n"
      ]
    },
    {
      "cell_type": "code",
      "metadata": {
        "id": "4W0w9fA3vN4a",
        "colab_type": "code",
        "outputId": "fdf9a72a-d87c-4bfe-f7eb-137f4371701c",
        "colab": {
          "base_uri": "https://localhost:8080/",
          "height": 272
        }
      },
      "source": [
        "nltk.download('wordnet')\n",
        "lemmatizer = WordNetLemmatizer()\n",
        "def word_lemmatizer(text):\n",
        "    lem_text= [lemmatizer.lemmatize(i) for i in text]\n",
        "    return lem_text \n",
        "train_sample['comment_text'] = train_sample['comment_text'].apply(lambda x : word_lemmatizer(x))\n",
        "test_sample['comment_text'] = test_sample['comment_text'].apply(lambda x : word_lemmatizer(x))\n",
        "print (train_sample['comment_text'])"
      ],
      "execution_count": 29,
      "outputs": [
        {
          "output_type": "stream",
          "text": [
            "[nltk_data] Downloading package wordnet to /root/nltk_data...\n",
            "[nltk_data]   Unzipping corpora/wordnet.zip.\n",
            "99351     [comment, much, friendlier, russell, kirk, con...\n",
            "11393             [shouldnt, one, deleted, renamed, sunday]\n",
            "323                                      [convicted, felon]\n",
            "122225                       [creating, talk, page, needed]\n",
            "95004     [going, teach, language, predominates, catalon...\n",
            "                                ...                        \n",
            "42150     [20, reminds, percentage, german, youth, fight...\n",
            "3829                             [aristocratic, connection]\n",
            "115897       [commercial, website, advised, external, link]\n",
            "5699      [november, 2012, ignoring, wp, breach, wp, con...\n",
            "35232     [arbitration, enforcement, please, see, wikipe...\n",
            "Name: comment_text, Length: 70000, dtype: object\n"
          ],
          "name": "stdout"
        }
      ]
    },
    {
      "cell_type": "code",
      "metadata": {
        "id": "fPgHc6CN_CJf",
        "colab_type": "code",
        "outputId": "8ce6e67c-1977-41e6-abe7-1370121a0850",
        "colab": {
          "base_uri": "https://localhost:8080/",
          "height": 55
        }
      },
      "source": [
        "import copy\n",
        "train_sentences = train_sample['comment_text'].values.tolist()\n",
        "test_sentences = test_sample['comment_text'].values.tolist()\n",
        "total_sentences = copy.deepcopy(train_sentences)\n",
        "total_sentences.extend(test_sentences)\n",
        "print (train_sentences[0])"
      ],
      "execution_count": 30,
      "outputs": [
        {
          "output_type": "stream",
          "text": [
            "['comment', 'much', 'friendlier', 'russell', 'kirk', 'conservative', 'philosopher', 'groused', 'people', 'read', 'novel', 'fornicating', 'bit', 'used', 'single', 'quote', 'appropriate', 'wouldnt', 'mistaken', 'pov', 'however', 'would', 'still', 'like', 'note', 'edits', 'made', 'pov', 'thus', 'deserved', 'reverted', 'lgagnon']\n"
          ],
          "name": "stdout"
        }
      ]
    },
    {
      "cell_type": "code",
      "metadata": {
        "id": "epfoTlEh_a2D",
        "colab_type": "code",
        "outputId": "b2430e6b-728c-4d02-d7d0-9517e391b8ff",
        "colab": {
          "base_uri": "https://localhost:8080/",
          "height": 92
        }
      },
      "source": [
        "from gensim.models import Word2Vec\n",
        "from sklearn import feature_extraction, linear_model, model_selection, preprocessing\n",
        "from sklearn.feature_extraction.text import CountVectorizer\n",
        "from sklearn.feature_extraction.text import TfidfVectorizer\n",
        "w2v = Word2Vec(total_sentences, size=100, window=5, min_count=1, workers=4)\n",
        "w2v.train(total_sentences,total_examples=len(total_sentences),epochs=10)\n",
        "w1  = \"edit\"\n",
        "print (w2v.wv.most_similar (positive=w1))"
      ],
      "execution_count": 31,
      "outputs": [
        {
          "output_type": "stream",
          "text": [
            "[('edits', 0.6691185832023621), ('htmlfourwaykey', 0.6465311646461487), ('wikipadida', 0.6448255181312561), ('gb0008237132gbgbxaimi', 0.5851326584815979), ('paine1776', 0.561846137046814), ('findingf', 0.5606018304824829), ('eois', 0.543807864189148), ('stateing', 0.5436743497848511), ('mattdocbrown', 0.5384588241577148), ('revert', 0.5313133001327515)]\n"
          ],
          "name": "stdout"
        },
        {
          "output_type": "stream",
          "text": [
            "/usr/local/lib/python3.6/dist-packages/gensim/matutils.py:737: FutureWarning: Conversion of the second argument of issubdtype from `int` to `np.signedinteger` is deprecated. In future, it will be treated as `np.int64 == np.dtype(int).type`.\n",
            "  if np.issubdtype(vec.dtype, np.int):\n"
          ],
          "name": "stderr"
        }
      ]
    },
    {
      "cell_type": "code",
      "metadata": {
        "id": "UCOv4sByCp5x",
        "colab_type": "code",
        "colab": {
          "base_uri": "https://localhost:8080/",
          "height": 110
        },
        "outputId": "01c58ab1-445b-4adc-c2dd-6dbec9a6d124"
      },
      "source": [
        "import tensorflow.compat.v1 as tf\n",
        "from keras.utils import to_categorical\n",
        "tf.disable_v2_behavior()"
      ],
      "execution_count": 32,
      "outputs": [
        {
          "output_type": "stream",
          "text": [
            "Using TensorFlow backend.\n"
          ],
          "name": "stderr"
        },
        {
          "output_type": "stream",
          "text": [
            "WARNING:tensorflow:From /usr/local/lib/python3.6/dist-packages/tensorflow/python/compat/v2_compat.py:96: disable_resource_variables (from tensorflow.python.ops.variable_scope) is deprecated and will be removed in a future version.\n",
            "Instructions for updating:\n",
            "non-resource variables are not supported in the long term\n"
          ],
          "name": "stdout"
        }
      ]
    },
    {
      "cell_type": "code",
      "metadata": {
        "id": "g-OyVzL3gpDO",
        "colab_type": "code",
        "outputId": "3d5b01f4-df4e-4d66-cd36-e50ae659690d",
        "colab": {
          "base_uri": "https://localhost:8080/",
          "height": 419
        }
      },
      "source": [
        "embedding_matrix = w2v.wv.vectors\n",
        "vocab_size = len(embedding_matrix)\n",
        "print (vocab_size)\n",
        "model = tf.keras.models.Sequential()\n",
        "model.add(tf.keras.layers.Embedding(input_dim=vocab_size, \n",
        "                           output_dim = 100,weights=[embedding_matrix] , \n",
        "                           input_length = maxlen, trainable=False))\n",
        "model.add(tf.keras.layers.LSTM(units = 128 ,dropout = 0.2 , recurrent_dropout = 0.2))\n",
        "model.add(tf.keras.layers.Dense(6 , activation='sigmoid'))\n",
        "model.compile(optimizer='adam',\n",
        "              loss='binary_crossentropy',\n",
        "              metrics=['accuracy'])\n",
        "model.summary()"
      ],
      "execution_count": 33,
      "outputs": [
        {
          "output_type": "stream",
          "text": [
            "160799\n",
            "WARNING:tensorflow:From /usr/local/lib/python3.6/dist-packages/tensorflow/python/keras/initializers.py:119: calling RandomUniform.__init__ (from tensorflow.python.ops.init_ops) with dtype is deprecated and will be removed in a future version.\n",
            "Instructions for updating:\n",
            "Call initializer instance with the dtype argument instead of passing it to the constructor\n",
            "WARNING:tensorflow:From /usr/local/lib/python3.6/dist-packages/tensorflow/python/ops/resource_variable_ops.py:1666: calling BaseResourceVariable.__init__ (from tensorflow.python.ops.resource_variable_ops) with constraint is deprecated and will be removed in a future version.\n",
            "Instructions for updating:\n",
            "If using Keras pass *_constraint arguments to layers.\n",
            "Model: \"sequential\"\n",
            "_________________________________________________________________\n",
            "Layer (type)                 Output Shape              Param #   \n",
            "=================================================================\n",
            "embedding (Embedding)        (None, 1354, 100)         16079900  \n",
            "_________________________________________________________________\n",
            "lstm (LSTM)                  (None, 128)               117248    \n",
            "_________________________________________________________________\n",
            "dense (Dense)                (None, 6)                 774       \n",
            "=================================================================\n",
            "Total params: 16,197,922\n",
            "Trainable params: 118,022\n",
            "Non-trainable params: 16,079,900\n",
            "_________________________________________________________________\n"
          ],
          "name": "stdout"
        }
      ]
    },
    {
      "cell_type": "code",
      "metadata": {
        "id": "C_8aA11ImOTq",
        "colab_type": "code",
        "outputId": "3291937c-bffa-42e8-a903-7e307f770dcd",
        "colab": {
          "base_uri": "https://localhost:8080/",
          "height": 417
        }
      },
      "source": [
        "model.fit(X_train, Y_train, batch_size = 64 , epochs=10, verbose=2 , validation_split=0.2)\n",
        "# evaluate\n",
        "loss, acc = model.evaluate(X_test, Y_test, verbose=1)\n",
        "print('Test Accuracy: %f' % (acc*100))"
      ],
      "execution_count": 34,
      "outputs": [
        {
          "output_type": "stream",
          "text": [
            "Train on 39200 samples, validate on 9800 samples\n",
            "Epoch 1/10\n",
            "39200/39200 - 2547s - loss: 0.1464 - acc: 0.9613 - val_loss: 0.1427 - val_acc: 0.9634\n",
            "Epoch 2/10\n",
            "39200/39200 - 2466s - loss: 0.1430 - acc: 0.9630 - val_loss: 0.1429 - val_acc: 0.9634\n",
            "Epoch 3/10\n",
            "39200/39200 - 2504s - loss: 0.1426 - acc: 0.9630 - val_loss: 0.1355 - val_acc: 0.9634\n",
            "Epoch 4/10\n",
            "39200/39200 - 2485s - loss: 0.1130 - acc: 0.9644 - val_loss: 0.0919 - val_acc: 0.9729\n",
            "Epoch 5/10\n",
            "39200/39200 - 2481s - loss: 0.0920 - acc: 0.9715 - val_loss: 0.0829 - val_acc: 0.9739\n",
            "Epoch 6/10\n",
            "39200/39200 - 2645s - loss: 0.0838 - acc: 0.9740 - val_loss: 0.0786 - val_acc: 0.9751\n",
            "Epoch 7/10\n",
            "39200/39200 - 2738s - loss: 0.0787 - acc: 0.9752 - val_loss: 0.0762 - val_acc: 0.9756\n",
            "Epoch 8/10\n",
            "39200/39200 - 2633s - loss: 0.0753 - acc: 0.9762 - val_loss: 0.0760 - val_acc: 0.9763\n",
            "Epoch 9/10\n",
            "39200/39200 - 2638s - loss: 0.0726 - acc: 0.9768 - val_loss: 0.0724 - val_acc: 0.9760\n",
            "Epoch 10/10\n",
            "39200/39200 - 2566s - loss: 0.0697 - acc: 0.9776 - val_loss: 0.0692 - val_acc: 0.9773\n",
            "Test Accuracy: 97.816610\n"
          ],
          "name": "stdout"
        }
      ]
    }
  ]
}